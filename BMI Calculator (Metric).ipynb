{
 "cells": [
  {
   "cell_type": "code",
   "execution_count": 9,
   "id": "d86359d9",
   "metadata": {},
   "outputs": [
    {
     "name": "stdout",
     "output_type": "stream",
     "text": [
      "Enter your name: Suwetha\n",
      "Enter your weight in kgs: 80\n",
      "Enter your height in cms: 165\n",
      "Your bmi is: 29.38\n",
      "Suwetha, you are overweight.\n"
     ]
    }
   ],
   "source": [
    "name = input(\"Enter your name: \")\n",
    "\n",
    "weight = int(input(\"Enter your weight in kgs: \"))\n",
    "\n",
    "height = int(input(\"Enter your height in cms: \"))\n",
    "\n",
    "bmi = (weight) * 10000 /(height * height)\n",
    "\n",
    "print(\"Your bmi is:\",('%.2f' % bmi))\n",
    "\n",
    "if (bmi > 0):\n",
    "    if (bmi < 18.5):\n",
    "        print(name + \", you are underweight.\")\n",
    "    elif (bmi <= 24.9):\n",
    "        print(name + \", you are normalweight.\")\n",
    "    elif (bmi <= 29.9):\n",
    "        print(name + \", you are overweight.\")\n",
    "    elif (bmi <= 34.9):\n",
    "        print(name + \", you are severely obese.\")\n",
    "    elif (bmi <= 39.9):\n",
    "        print(name + \", you are morbidly obese.\")\n",
    "else:\n",
    "    print(\"Enter valid input\")"
   ]
  },
  {
   "cell_type": "code",
   "execution_count": null,
   "id": "23924f42",
   "metadata": {},
   "outputs": [],
   "source": []
  }
 ],
 "metadata": {
  "kernelspec": {
   "display_name": "Python 3 (ipykernel)",
   "language": "python",
   "name": "python3"
  },
  "language_info": {
   "codemirror_mode": {
    "name": "ipython",
    "version": 3
   },
   "file_extension": ".py",
   "mimetype": "text/x-python",
   "name": "python",
   "nbconvert_exporter": "python",
   "pygments_lexer": "ipython3",
   "version": "3.9.13"
  }
 },
 "nbformat": 4,
 "nbformat_minor": 5
}
