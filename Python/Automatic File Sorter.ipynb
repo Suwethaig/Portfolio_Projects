{
 "cells": [
  {
   "cell_type": "code",
   "execution_count": 31,
   "id": "e2c82de3",
   "metadata": {},
   "outputs": [],
   "source": [
    "#Importing the necessary libraries\n",
    "\n",
    "import os, shutil"
   ]
  },
  {
   "cell_type": "code",
   "execution_count": 32,
   "id": "46d1d176",
   "metadata": {},
   "outputs": [],
   "source": [
    "#Path where files to sort are present\n",
    "\n",
    "path = r\"C:/Users/igsuw/OneDrive/Documents/GitHub/data_analyst_projects/Files/\""
   ]
  },
  {
   "cell_type": "code",
   "execution_count": 33,
   "id": "a7617ab6",
   "metadata": {},
   "outputs": [],
   "source": [
    "#Getting the names of files to sort\n",
    "\n",
    "file_name = os.listdir(path)\n",
    "#print(file_name)"
   ]
  },
  {
   "cell_type": "code",
   "execution_count": 34,
   "id": "84db511a",
   "metadata": {},
   "outputs": [],
   "source": [
    "#Creating the folders to move the respective files\n",
    "\n",
    "folder_names = [\"csv files\", \"image files\", \"text files\"]\n",
    "\n",
    "for loop in range(3):\n",
    "    if not os.path.exists(path + folder_names[loop]):\n",
    "        os.makedirs(path + folder_names[loop])"
   ]
  },
  {
   "cell_type": "code",
   "execution_count": 35,
   "id": "ca06e9ee",
   "metadata": {},
   "outputs": [],
   "source": [
    "#Moving the files into respective folders\n",
    "\n",
    "for file in file_name:\n",
    "    if \".csv\" in file and not os.path.exists(path + \"csv files/\" + file):\n",
    "        shutil.move(path + file, path + \"csv files/\" + file)\n",
    "    elif \".txt\" in file and not os.path.exists(path + \"text files/\" + file):\n",
    "        shutil.move(path + file, path + \"text files/\" + file)\n",
    "    elif \".jpg\" in file and not os.path.exists(path + \"image files/\" + file):\n",
    "        shutil.move(path + file, path + \"image files/\" + file)"
   ]
  }
 ],
 "metadata": {
  "kernelspec": {
   "display_name": "Python 3 (ipykernel)",
   "language": "python",
   "name": "python3"
  },
  "language_info": {
   "codemirror_mode": {
    "name": "ipython",
    "version": 3
   },
   "file_extension": ".py",
   "mimetype": "text/x-python",
   "name": "python",
   "nbconvert_exporter": "python",
   "pygments_lexer": "ipython3",
   "version": "3.9.13"
  }
 },
 "nbformat": 4,
 "nbformat_minor": 5
}
